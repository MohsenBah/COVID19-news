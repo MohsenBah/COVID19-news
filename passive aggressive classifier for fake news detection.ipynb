{
  "nbformat": 4,
  "nbformat_minor": 0,
  "metadata": {
    "kernelspec": {
      "display_name": "Python 3",
      "language": "python",
      "name": "python3"
    },
    "language_info": {
      "codemirror_mode": {
        "name": "ipython",
        "version": 3
      },
      "file_extension": ".py",
      "mimetype": "text/x-python",
      "name": "python",
      "nbconvert_exporter": "python",
      "pygments_lexer": "ipython3",
      "version": "3.7.4"
    },
    "colab": {
      "name": "PAC-4.ipynb",
      "provenance": []
    }
  },
  "cells": [
    {
      "cell_type": "code",
      "metadata": {
        "id": "joX425TTQQlg",
        "outputId": "ddc4ec94-7bae-4080-97b3-f6ec92ee9776",
        "colab": {
          "base_uri": "https://localhost:8080/"
        }
      },
      "source": [
        "%matplotlib inline  \n",
        "import pandas as pd\n",
        "import numpy as np\n",
        "\n",
        "from nltk.tokenize import word_tokenize\n",
        "import matplotlib.pyplot as plt\n",
        "from sklearn.model_selection import GridSearchCV\n",
        "from sklearn.preprocessing import scale\n",
        "from sklearn.base import TransformerMixin\n",
        "from sklearn.neural_network import MLPClassifier\n",
        "from sklearn.linear_model import LogisticRegression\n",
        "from sklearn.metrics import classification_report\n",
        "from sklearn.preprocessing import LabelEncoder\n",
        "from sklearn.model_selection import train_test_split\n",
        "from sklearn.feature_extraction.text import CountVectorizer\n",
        "from sklearn.feature_extraction.text import TfidfTransformer\n",
        "\n",
        "from sklearn.feature_extraction.text import TfidfVectorizer\n",
        "from sklearn.ensemble import RandomForestClassifier\n",
        "from sklearn.metrics import confusion_matrix\n",
        "from sklearn.naive_bayes import MultinomialNB\n",
        "from imblearn.over_sampling import RandomOverSampler\n",
        "from sklearn.svm import SVC\n",
        "from sklearn.metrics import accuracy_score, f1_score, precision_score, recall_score, classification_report, confusion_matrix\n",
        "from sklearn import metrics"
      ],
      "execution_count": null,
      "outputs": [
        {
          "output_type": "stream",
          "text": [
            "/usr/local/lib/python3.6/dist-packages/sklearn/externals/six.py:31: FutureWarning: The module is deprecated in version 0.21 and will be removed in version 0.23 since we've dropped support for Python 2.7. Please rely on the official version of six (https://pypi.org/project/six/).\n",
            "  \"(https://pypi.org/project/six/).\", FutureWarning)\n",
            "/usr/local/lib/python3.6/dist-packages/sklearn/utils/deprecation.py:144: FutureWarning: The sklearn.neighbors.base module is  deprecated in version 0.22 and will be removed in version 0.24. The corresponding classes / functions should instead be imported from sklearn.neighbors. Anything that cannot be imported from sklearn.neighbors is now part of the private API.\n",
            "  warnings.warn(message, FutureWarning)\n"
          ],
          "name": "stderr"
        }
      ]
    },
    {
      "cell_type": "code",
      "metadata": {
        "id": "8WqmxHbWQQlh"
      },
      "source": [
        "df1 = pd.read_csv(\"/Users/mohsenbahremani/Desktop/Master/COVID compitition/covid_data/fake_covid_news.csv\")\n",
        "df2 = pd.read_csv(\"/Users/mohsenbahremani/Desktop/Master/COVID compitition/covid_data/real_covid_news.csv\")\n",
        "df1[\"label\"]=0\n",
        "df2[\"label\"]=1"
      ],
      "execution_count": null,
      "outputs": []
    },
    {
      "cell_type": "code",
      "metadata": {
        "id": "c2AWM6ZEQQlh",
        "outputId": "f736dfa9-1c5f-422a-c409-5153d21affeb"
      },
      "source": [
        "df2\n"
      ],
      "execution_count": null,
      "outputs": [
        {
          "output_type": "execute_result",
          "data": {
            "text/html": [
              "<div>\n",
              "<style scoped>\n",
              "    .dataframe tbody tr th:only-of-type {\n",
              "        vertical-align: middle;\n",
              "    }\n",
              "\n",
              "    .dataframe tbody tr th {\n",
              "        vertical-align: top;\n",
              "    }\n",
              "\n",
              "    .dataframe thead th {\n",
              "        text-align: right;\n",
              "    }\n",
              "</style>\n",
              "<table border=\"1\" class=\"dataframe\">\n",
              "  <thead>\n",
              "    <tr style=\"text-align: right;\">\n",
              "      <th></th>\n",
              "      <th>type</th>\n",
              "      <th>title</th>\n",
              "      <th>newstitle</th>\n",
              "      <th>publish_date</th>\n",
              "      <th>content</th>\n",
              "      <th>label</th>\n",
              "    </tr>\n",
              "  </thead>\n",
              "  <tbody>\n",
              "    <tr>\n",
              "      <th>0</th>\n",
              "      <td>article</td>\n",
              "      <td>Coronavirus Outbreak: Live Updates</td>\n",
              "      <td>\"Coronavirus Outbreak: Daily Updates\"</td>\n",
              "      <td>NaN</td>\n",
              "      <td>experts warn most states that are reopening st...</td>\n",
              "      <td>1</td>\n",
              "    </tr>\n",
              "    <tr>\n",
              "      <th>1</th>\n",
              "      <td>article</td>\n",
              "      <td>Screen Time Doesn’t Hurt Kids’ Social Skills, ...</td>\n",
              "      <td>\"Screen Time Doesn't Hurt Kids' Social Skills,...</td>\n",
              "      <td>NaN</td>\n",
              "      <td>a new study finds an increase in screen time d...</td>\n",
              "      <td>1</td>\n",
              "    </tr>\n",
              "    <tr>\n",
              "      <th>2</th>\n",
              "      <td>article</td>\n",
              "      <td>Here’s Exactly Where We Are with Vaccines and ...</td>\n",
              "      <td>\"Where We're at with Vaccines and Treatments f...</td>\n",
              "      <td>NaN</td>\n",
              "      <td>scientists around the world are working on a n...</td>\n",
              "      <td>1</td>\n",
              "    </tr>\n",
              "    <tr>\n",
              "      <th>3</th>\n",
              "      <td>article</td>\n",
              "      <td>Here’s What Happens to the Body After Contract...</td>\n",
              "      <td>\"Here's What Happens to the Body After Contrac...</td>\n",
              "      <td>NaN</td>\n",
              "      <td>coronaviruses cause respiratory illnesses so t...</td>\n",
              "      <td>1</td>\n",
              "    </tr>\n",
              "    <tr>\n",
              "      <th>4</th>\n",
              "      <td>article</td>\n",
              "      <td>Why You Should Be Skeptical of Early Results o...</td>\n",
              "      <td>\"Why You Should Be Skeptical of Leaked Results...</td>\n",
              "      <td>NaN</td>\n",
              "      <td>medical experts are studying if remdesivir can...</td>\n",
              "      <td>1</td>\n",
              "    </tr>\n",
              "    <tr>\n",
              "      <th>...</th>\n",
              "      <td>...</td>\n",
              "      <td>...</td>\n",
              "      <td>...</td>\n",
              "      <td>...</td>\n",
              "      <td>...</td>\n",
              "      <td>...</td>\n",
              "    </tr>\n",
              "    <tr>\n",
              "      <th>3048</th>\n",
              "      <td>NaN</td>\n",
              "      <td>NaN</td>\n",
              "      <td>NaN</td>\n",
              "      <td>NaN</td>\n",
              "      <td>How can we protect people seeking tuberculosis...</td>\n",
              "      <td>1</td>\n",
              "    </tr>\n",
              "    <tr>\n",
              "      <th>3049</th>\n",
              "      <td>NaN</td>\n",
              "      <td>NaN</td>\n",
              "      <td>NaN</td>\n",
              "      <td>NaN</td>\n",
              "      <td>Can tuberculosis and COVID-19 be tested on the...</td>\n",
              "      <td>1</td>\n",
              "    </tr>\n",
              "    <tr>\n",
              "      <th>3050</th>\n",
              "      <td>NaN</td>\n",
              "      <td>NaN</td>\n",
              "      <td>NaN</td>\n",
              "      <td>NaN</td>\n",
              "      <td>Should all people being evaluated for tubercul...</td>\n",
              "      <td>1</td>\n",
              "    </tr>\n",
              "    <tr>\n",
              "      <th>3051</th>\n",
              "      <td>NaN</td>\n",
              "      <td>NaN</td>\n",
              "      <td>NaN</td>\n",
              "      <td>NaN</td>\n",
              "      <td>Is tuberculosis treatment different in people ...</td>\n",
              "      <td>1</td>\n",
              "    </tr>\n",
              "    <tr>\n",
              "      <th>3052</th>\n",
              "      <td>NaN</td>\n",
              "      <td>NaN</td>\n",
              "      <td>NaN</td>\n",
              "      <td>NaN</td>\n",
              "      <td>Does the BCG vaccine protect people from COVID...</td>\n",
              "      <td>1</td>\n",
              "    </tr>\n",
              "  </tbody>\n",
              "</table>\n",
              "<p>3053 rows × 6 columns</p>\n",
              "</div>"
            ],
            "text/plain": [
              "         type                                              title  \\\n",
              "0     article                 Coronavirus Outbreak: Live Updates   \n",
              "1     article  Screen Time Doesn’t Hurt Kids’ Social Skills, ...   \n",
              "2     article  Here’s Exactly Where We Are with Vaccines and ...   \n",
              "3     article  Here’s What Happens to the Body After Contract...   \n",
              "4     article  Why You Should Be Skeptical of Early Results o...   \n",
              "...       ...                                                ...   \n",
              "3048      NaN                                                NaN   \n",
              "3049      NaN                                                NaN   \n",
              "3050      NaN                                                NaN   \n",
              "3051      NaN                                                NaN   \n",
              "3052      NaN                                                NaN   \n",
              "\n",
              "                                              newstitle publish_date  \\\n",
              "0                 \"Coronavirus Outbreak: Daily Updates\"          NaN   \n",
              "1     \"Screen Time Doesn't Hurt Kids' Social Skills,...          NaN   \n",
              "2     \"Where We're at with Vaccines and Treatments f...          NaN   \n",
              "3     \"Here's What Happens to the Body After Contrac...          NaN   \n",
              "4     \"Why You Should Be Skeptical of Leaked Results...          NaN   \n",
              "...                                                 ...          ...   \n",
              "3048                                                NaN          NaN   \n",
              "3049                                                NaN          NaN   \n",
              "3050                                                NaN          NaN   \n",
              "3051                                                NaN          NaN   \n",
              "3052                                                NaN          NaN   \n",
              "\n",
              "                                                content  label  \n",
              "0     experts warn most states that are reopening st...      1  \n",
              "1     a new study finds an increase in screen time d...      1  \n",
              "2     scientists around the world are working on a n...      1  \n",
              "3     coronaviruses cause respiratory illnesses so t...      1  \n",
              "4     medical experts are studying if remdesivir can...      1  \n",
              "...                                                 ...    ...  \n",
              "3048  How can we protect people seeking tuberculosis...      1  \n",
              "3049  Can tuberculosis and COVID-19 be tested on the...      1  \n",
              "3050  Should all people being evaluated for tubercul...      1  \n",
              "3051  Is tuberculosis treatment different in people ...      1  \n",
              "3052  Does the BCG vaccine protect people from COVID...      1  \n",
              "\n",
              "[3053 rows x 6 columns]"
            ]
          },
          "metadata": {
            "tags": []
          },
          "execution_count": 90
        }
      ]
    },
    {
      "cell_type": "code",
      "metadata": {
        "id": "5j57LQE8QQli",
        "outputId": "75730bcb-4380-4a46-c63d-9f0028b486e6"
      },
      "source": [
        "df1[df1['content'].isnull()][df1['title'].isnull()]\n",
        "df1.content.fillna(df1.title, inplace=True)"
      ],
      "execution_count": null,
      "outputs": [
        {
          "output_type": "stream",
          "text": [
            "/Users/mohsenbahremani/opt/anaconda3/lib/python3.7/site-packages/ipykernel_launcher.py:1: UserWarning: Boolean Series key will be reindexed to match DataFrame index.\n",
            "  \"\"\"Entry point for launching an IPython kernel.\n"
          ],
          "name": "stderr"
        }
      ]
    },
    {
      "cell_type": "code",
      "metadata": {
        "id": "NKqiYI22QQlj",
        "outputId": "e285b522-77b3-4d92-913b-a3d8b62c490d"
      },
      "source": [
        "df1[df1['content'].isnull()]"
      ],
      "execution_count": null,
      "outputs": [
        {
          "output_type": "execute_result",
          "data": {
            "text/html": [
              "<div>\n",
              "<style scoped>\n",
              "    .dataframe tbody tr th:only-of-type {\n",
              "        vertical-align: middle;\n",
              "    }\n",
              "\n",
              "    .dataframe tbody tr th {\n",
              "        vertical-align: top;\n",
              "    }\n",
              "\n",
              "    .dataframe thead th {\n",
              "        text-align: right;\n",
              "    }\n",
              "</style>\n",
              "<table border=\"1\" class=\"dataframe\">\n",
              "  <thead>\n",
              "    <tr style=\"text-align: right;\">\n",
              "      <th></th>\n",
              "      <th>type</th>\n",
              "      <th>title</th>\n",
              "      <th>newstitle</th>\n",
              "      <th>publish_date</th>\n",
              "      <th>content</th>\n",
              "      <th>label</th>\n",
              "    </tr>\n",
              "  </thead>\n",
              "  <tbody>\n",
              "  </tbody>\n",
              "</table>\n",
              "</div>"
            ],
            "text/plain": [
              "Empty DataFrame\n",
              "Columns: [type, title, newstitle, publish_date, content, label]\n",
              "Index: []"
            ]
          },
          "metadata": {
            "tags": []
          },
          "execution_count": 64
        }
      ]
    },
    {
      "cell_type": "code",
      "metadata": {
        "id": "ynQEFedfQQlj",
        "outputId": "3d016537-2a2a-41df-fc3a-e54c3f306bf6"
      },
      "source": [
        "df2[df2['content'].isnull()][df2['title'].isnull()]\n",
        "df2.content.fillna(df2.title, inplace=True)"
      ],
      "execution_count": null,
      "outputs": [
        {
          "output_type": "stream",
          "text": [
            "/Users/mohsenbahremani/opt/anaconda3/lib/python3.7/site-packages/ipykernel_launcher.py:1: UserWarning: Boolean Series key will be reindexed to match DataFrame index.\n",
            "  \"\"\"Entry point for launching an IPython kernel.\n"
          ],
          "name": "stderr"
        }
      ]
    },
    {
      "cell_type": "code",
      "metadata": {
        "id": "H_yxMujiQQlk",
        "outputId": "a4420444-7d55-494b-a472-4e64c47e32dd"
      },
      "source": [
        "df2[df2['content'].isnull()]"
      ],
      "execution_count": null,
      "outputs": [
        {
          "output_type": "execute_result",
          "data": {
            "text/html": [
              "<div>\n",
              "<style scoped>\n",
              "    .dataframe tbody tr th:only-of-type {\n",
              "        vertical-align: middle;\n",
              "    }\n",
              "\n",
              "    .dataframe tbody tr th {\n",
              "        vertical-align: top;\n",
              "    }\n",
              "\n",
              "    .dataframe thead th {\n",
              "        text-align: right;\n",
              "    }\n",
              "</style>\n",
              "<table border=\"1\" class=\"dataframe\">\n",
              "  <thead>\n",
              "    <tr style=\"text-align: right;\">\n",
              "      <th></th>\n",
              "      <th>type</th>\n",
              "      <th>title</th>\n",
              "      <th>newstitle</th>\n",
              "      <th>publish_date</th>\n",
              "      <th>content</th>\n",
              "      <th>label</th>\n",
              "    </tr>\n",
              "  </thead>\n",
              "  <tbody>\n",
              "  </tbody>\n",
              "</table>\n",
              "</div>"
            ],
            "text/plain": [
              "Empty DataFrame\n",
              "Columns: [type, title, newstitle, publish_date, content, label]\n",
              "Index: []"
            ]
          },
          "metadata": {
            "tags": []
          },
          "execution_count": 66
        }
      ]
    },
    {
      "cell_type": "code",
      "metadata": {
        "id": "T5tEMMphQQlk"
      },
      "source": [
        "y = pd.concat([df1.label,df2.label], ignore_index = True) \n",
        "\n",
        " \n",
        "X= pd.concat([df1.content,df2.content], ignore_index = True) \n",
        "\n",
        "# Make training and test sets \n",
        "X_train, X_test, y_train, y_test = train_test_split(X, y, test_size=0.33, random_state=0)\n"
      ],
      "execution_count": null,
      "outputs": []
    },
    {
      "cell_type": "code",
      "metadata": {
        "id": "mb1IIJisQQlk"
      },
      "source": [
        "# Initialize the `count_vectorizer` \n",
        "count_vectorizer = CountVectorizer(stop_words='english')\n",
        "\n",
        "# Fit and transform the training data \n",
        "count_train = count_vectorizer.fit_transform(X_train) \n",
        "\n",
        "# Transform the test set \n",
        "count_test = count_vectorizer.transform(X_test)"
      ],
      "execution_count": null,
      "outputs": []
    },
    {
      "cell_type": "code",
      "metadata": {
        "id": "oCqvtNPpQQll"
      },
      "source": [
        "\n",
        "# Initialize the `tfidf_vectorizer` \n",
        "tfidf_vectorizer = TfidfVectorizer(stop_words='english', max_df=0.7) \n",
        "\n",
        "# Fit and transform the training data \n",
        "tfidf_train = tfidf_vectorizer.fit_transform(X_train) \n",
        "\n",
        "# Transform the test set \n",
        "tfidf_test = tfidf_vectorizer.transform(X_test)"
      ],
      "execution_count": null,
      "outputs": []
    },
    {
      "cell_type": "code",
      "metadata": {
        "id": "sUp-yF9tQQll",
        "outputId": "7fb38491-88d1-4f7a-9526-717216fd091f"
      },
      "source": [
        "count_df = pd.DataFrame(count_train.A, columns=count_vectorizer.get_feature_names())\n",
        "# Print the head of count_df\n",
        "print(count_df.head())\n",
        "\n",
        "tfidf_df = pd.DataFrame(tfidf_train.A, columns=tfidf_vectorizer.get_feature_names())\n",
        "# Print the head of tfidf_df\n",
        "#print(tfidf_df.head())\n",
        "\n",
        "# Calculate the difference in columns: difference\n",
        "difference = set(count_df.columns) - set(tfidf_df.columns)\n",
        "#print(difference)\n",
        "\n",
        "# Check whether the DataFrames are equal\n",
        "#print(count_df.equals(tfidf_df))"
      ],
      "execution_count": null,
      "outputs": [
        {
          "output_type": "stream",
          "text": [
            "   00  000  001  006  01  012  02  03  033  035  ...  òyouõre  óamerica  \\\n",
            "0   0    0    0    0   0    0   0   0    0    0  ...        0         0   \n",
            "1   0    0    0    0   0    0   0   0    0    0  ...        0         0   \n",
            "2   0    0    0    0   0    0   0   0    0    0  ...        0         0   \n",
            "3   0    0    0    0   0    0   0   0    0    0  ...        0         0   \n",
            "4   0    0    0    0   0    0   0   0    0    0  ...        0         0   \n",
            "\n",
            "   ôcoronavirus  ôcoronavirusõ  ôi  ônewõ  ôsamuel  ôvaccineõ  ôzyphr  õó  \n",
            "0             0              0   0      0        0          0       0   0  \n",
            "1             0              0   0      0        0          0       0   0  \n",
            "2             0              0   0      0        0          0       0   0  \n",
            "3             0              0   0      0        0          0       0   0  \n",
            "4             0              0   0      0        0          0       0   0  \n",
            "\n",
            "[5 rows x 10138 columns]\n"
          ],
          "name": "stdout"
        }
      ]
    },
    {
      "cell_type": "code",
      "metadata": {
        "id": "nxK-hiieQQlm"
      },
      "source": [
        "import itertools    \n",
        "\n",
        "def plot_confusion_matrix(cm, classes,\n",
        "                          normalize=False,\n",
        "                          title='Confusion matrix',\n",
        "                          cmap=plt.cm.Blues):\n",
        "  \n",
        "   \n",
        "    plt.imshow(cm, interpolation='nearest', cmap=cmap)\n",
        "    plt.title(title)\n",
        "    plt.colorbar()\n",
        "    tick_marks = np.arange(len(classes))\n",
        "    plt.xticks(tick_marks, classes, rotation=45)\n",
        "    plt.yticks(tick_marks, classes)\n",
        "\n",
        "    if normalize:\n",
        "        cm = cm.astype('float') / cm.sum(axis=1)[:, np.newaxis]\n",
        "        print(\"Normalized confusion matrix\")\n",
        "    else:\n",
        "        print('Confusion matrix, without normalization')\n",
        "\n",
        "    thresh = cm.max() / 2.\n",
        "    for i, j in itertools.product(range(cm.shape[0]), range(cm.shape[1])):\n",
        "        plt.text(j, i, cm[i, j],\n",
        "                 horizontalalignment=\"center\",\n",
        "                 color=\"white\" if cm[i, j] > thresh else \"black\")\n",
        "\n",
        "    plt.tight_layout()\n",
        "    plt.ylabel('True label')\n",
        "    plt.xlabel('Predicted label')\n"
      ],
      "execution_count": null,
      "outputs": []
    },
    {
      "cell_type": "markdown",
      "metadata": {
        "id": "tyVEy2RfQQlm"
      },
      "source": [
        "## Passive aggresive classification"
      ]
    },
    {
      "cell_type": "code",
      "metadata": {
        "id": "hLISQXe5QQlm",
        "outputId": "438533a8-37cc-4f55-f85e-3e73be83b5c1"
      },
      "source": [
        "from sklearn import linear_model as pd_linear_model\n",
        "## best C and max_iter can be find by gridsearch, i,ve just use trial and error\n",
        "linear_clf = pd_linear_model.PassiveAggressiveClassifier(C=5, max_iter=300)\n",
        "linear_clf.fit(tfidf_train, y_train)\n",
        "pred = linear_clf.predict(tfidf_test)\n",
        "score = metrics.accuracy_score(y_test, pred)\n",
        "print(\"accuracy:   %0.3f\" % score)\n",
        "cm = metrics.confusion_matrix(y_test, pred, labels=[0, 1])\n",
        "plot_confusion_matrix(cm, classes=['Fake', 'TRUE'])"
      ],
      "execution_count": null,
      "outputs": [
        {
          "output_type": "stream",
          "text": [
            "accuracy:   0.925\n",
            "Confusion matrix, without normalization\n"
          ],
          "name": "stdout"
        },
        {
          "output_type": "display_data",
          "data": {
            "image/png": "[encoded data removed]",
            "text/plain": [
              "<Figure size 432x288 with 2 Axes>"
            ]
          },
          "metadata": {
            "tags": [],
            "needs_background": "light"
          }
        }
      ]
    },
    {
      "cell_type": "code",
      "metadata": {
        "id": "xsuMGGIiQQln",
        "outputId": "140a3994-952e-409b-9be9-824cd9c6ec23"
      },
      "source": [
        "# Create the list of alphas: alphas\n",
        "Cs = np.arange(1, 10, 1)\n",
        "iterr = np.array([100,200,300,400,500])\n",
        "# Define train_and_predict()\n",
        "def train_and_predict(c,i):\n",
        "    # Instantiate the classifier: nb_classifier\n",
        "    nb_classifier = pd_linear_model.PassiveAggressiveClassifier(C=c, max_iter=i)\n",
        "    # Fit to the training data\n",
        "    nb_classifier.fit(tfidf_train, y_train)\n",
        "    # Predict the labels: pred\n",
        "    pred = nb_classifier.predict(tfidf_test)\n",
        "    # Compute accuracy: score\n",
        "    score = metrics.accuracy_score(y_test, pred)\n",
        "    return score\n",
        "\n",
        "# Iterate over the alphas and print the corresponding score\n",
        "#scores=[]\n",
        "a=0\n",
        "zero_data=np.zeros((len(Cs),len(iterr)))\n",
        "temp = pd.DataFrame(zero_data, index = Cs , columns = iterr)\n",
        "for c in Cs:\n",
        "    b=0\n",
        "    for i in iterr:\n",
        "        #scores.append(train_and_predict(c, i))\n",
        "        temp.iloc[a,b]=train_and_predict(c, i)\n",
        "        b+=1\n",
        "    a+=1\n",
        "print('Score: ', temp.to_numpy().max())\n",
        "for col in iterr:\n",
        "    for row in Cs:\n",
        "        if temp.loc[row,col]==temp.to_numpy().max():\n",
        "            print('C : ', row, ' Max_iter : ', col)\n",
        "print()"
      ],
      "execution_count": null,
      "outputs": [
        {
          "output_type": "stream",
          "text": [
            "Score:  0.9296754250386399\n",
            "C :  1  Max_iter :  200\n",
            "\n"
          ],
          "name": "stdout"
        }
      ]
    },
    {
      "cell_type": "code",
      "metadata": {
        "id": "hWfRX98HQQln",
        "outputId": "818777c8-3945-47c3-83ec-c360caf57729"
      },
      "source": [
        "X_new=[\"covid is not like the flu\"]\n",
        "tfidf_Newtest=tfidf_vectorizer.transform(X_new)\n",
        "pred2 = linear_clf.predict(tfidf_Newtest)\n",
        "pred2"
      ],
      "execution_count": null,
      "outputs": [
        {
          "output_type": "execute_result",
          "data": {
            "text/plain": [
              "array(['TRUE'], dtype='<U4')"
            ]
          },
          "metadata": {
            "tags": []
          },
          "execution_count": 27
        }
      ]
    },
    {
      "cell_type": "code",
      "metadata": {
        "id": "XNZUdK11QQln",
        "outputId": "9583cdf9-277a-4dc9-e107-fc181f780a7b"
      },
      "source": [
        "X_new=[\" Trump\"] # :-)\n",
        "tfidf_Newtest=tfidf_vectorizer.transform(X_new)\n",
        "pred3 = linear_clf.predict(tfidf_Newtest)\n",
        "pred3"
      ],
      "execution_count": null,
      "outputs": [
        {
          "output_type": "execute_result",
          "data": {
            "text/plain": [
              "array(['Fake'], dtype='<U4')"
            ]
          },
          "metadata": {
            "tags": []
          },
          "execution_count": 26
        }
      ]
    },
    {
      "cell_type": "code",
      "metadata": {
        "id": "fsVQXf__QQlo",
        "outputId": "9fa4406a-96dd-4fa4-9cd2-f3d7c03c2497"
      },
      "source": [
        "linear_clf = pd_linear_model.PassiveAggressiveClassifier(C=1, max_iter=200)\n",
        "linear_clf.fit(tfidf_train, y_train)\n",
        "pred = linear_clf.predict(tfidf_test)\n",
        "\n",
        "report = classification_report(y_test, pred)\n",
        "print(report)"
      ],
      "execution_count": null,
      "outputs": [
        {
          "output_type": "stream",
          "text": [
            "              precision    recall  f1-score   support\n",
            "\n",
            "           0       0.86      0.79      0.83       292\n",
            "           1       0.94      0.96      0.95      1002\n",
            "\n",
            "    accuracy                           0.92      1294\n",
            "   macro avg       0.90      0.88      0.89      1294\n",
            "weighted avg       0.92      0.92      0.92      1294\n",
            "\n"
          ],
          "name": "stdout"
        }
      ]
    },
    {
      "cell_type": "markdown",
      "metadata": {
        "id": "tAGhDUfdQQlo"
      },
      "source": [
        "## SVC"
      ]
    },
    {
      "cell_type": "code",
      "metadata": {
        "id": "CoPVwqlHQQlo",
        "outputId": "b1557cb9-a0ee-4e14-9088-92a23620bcea"
      },
      "source": [
        "clf=LinearSVC()\n",
        "clf.fit(tfidf_train, y_train)\n",
        "pred = clf.predict(tfidf_test)\n",
        "\n",
        "report = classification_report(y_test, pred)\n",
        "print(report)"
      ],
      "execution_count": null,
      "outputs": [
        {
          "output_type": "stream",
          "text": [
            "              precision    recall  f1-score   support\n",
            "\n",
            "           0       0.89      0.79      0.84       292\n",
            "           1       0.94      0.97      0.96      1002\n",
            "\n",
            "    accuracy                           0.93      1294\n",
            "   macro avg       0.91      0.88      0.90      1294\n",
            "weighted avg       0.93      0.93      0.93      1294\n",
            "\n"
          ],
          "name": "stdout"
        }
      ]
    },
    {
      "cell_type": "code",
      "metadata": {
        "id": "0_kUOulWQQlo"
      },
      "source": [
        ""
      ],
      "execution_count": null,
      "outputs": []
    },
    {
      "cell_type": "code",
      "metadata": {
        "id": "5jcjLtoSQQlp",
        "outputId": "0854d997-3a35-4f01-ccbb-7c26777f26b2"
      },
      "source": [
        "y = pd.concat([df1.label,df2.label], ignore_index = True) \n",
        "X= pd.concat([df1.content,df2.content], ignore_index = True) \n",
        "count_vectorizer = CountVectorizer(stop_words='english')\n",
        "\n",
        "tfidf_vectorizer = TfidfVectorizer(stop_words='english', max_df=0.7) \n",
        "\n",
        "# Fit and transform the training data \n",
        "tfidf_train = tfidf_vectorizer.fit_transform(X) \n",
        "\n",
        "from sklearn.model_selection import cross_val_score\n",
        "scores = cross_val_score(linear_clf, tfidf_train , y, cv=5)\n",
        "scores"
      ],
      "execution_count": null,
      "outputs": [
        {
          "output_type": "execute_result",
          "data": {
            "text/plain": [
              "array([0.89540816, 0.88265306, 0.88392857, 0.94770408, 0.91187739])"
            ]
          },
          "metadata": {
            "tags": []
          },
          "execution_count": 81
        }
      ]
    },
    {
      "cell_type": "code",
      "metadata": {
        "id": "Ks9ZpRabQQlp",
        "outputId": "41178952-0a42-4264-a112-8a29a6948aa1"
      },
      "source": [
        "from sklearn.pipeline import Pipeline\n",
        "from sklearn.decomposition import TruncatedSVD\n",
        "from sklearn.linear_model import LogisticRegression\n",
        "\n",
        "steps = [('svd', TruncatedSVD(n_components=15)), ('m', LogisticRegression())]\n",
        "model = Pipeline(steps=steps)\n",
        "# fit the model on the whole dataset\n",
        "model.fit(tfidf_train, y_train)\n",
        "yhat = model.predict(tfidf_test)\n",
        "score = metrics.accuracy_score(y_test, yhat)\n",
        "print(\"accuracy:   %0.3f\" % score)\n",
        "cm = metrics.confusion_matrix(y_test, yhat, labels=['Fake', 'TRUE'])\n",
        "plot_confusion_matrix(cm, classes=['Fake', 'TRUE'])\n",
        "report = classification_report(y_test, yhat)\n",
        "print(report)"
      ],
      "execution_count": null,
      "outputs": [
        {
          "output_type": "stream",
          "text": [
            "accuracy:   0.860\n",
            "Confusion matrix, without normalization\n",
            "              precision    recall  f1-score   support\n",
            "\n",
            "        Fake       0.87      0.45      0.59       292\n",
            "        TRUE       0.86      0.98      0.92      1002\n",
            "\n",
            "    accuracy                           0.86      1294\n",
            "   macro avg       0.87      0.71      0.75      1294\n",
            "weighted avg       0.86      0.86      0.84      1294\n",
            "\n"
          ],
          "name": "stdout"
        },
        {
          "output_type": "display_data",
          "data": {
            "image/png": "[encoded data removed]",
            "text/plain": [
              "<Figure size 432x288 with 2 Axes>"
            ]
          },
          "metadata": {
            "tags": [],
            "needs_background": "light"
          }
        }
      ]
    },
    {
      "cell_type": "markdown",
      "metadata": {
        "id": "SQ-NfD5CQQlp"
      },
      "source": [
        "## Cross validation score"
      ]
    },
    {
      "cell_type": "code",
      "metadata": {
        "id": "00LvSBN0QQlp",
        "outputId": "bcfe8e66-fc59-40e8-c20e-523241d370be"
      },
      "source": [
        "from sklearn.metrics import classification_report\n",
        "from sklearn.model_selection import cross_val_predict\n",
        "from sklearn.model_selection import KFold# We transform each complaint into a vector\n",
        "\n",
        "tfidf_vectorizer = TfidfVectorizer(stop_words='english', max_df=0.7) \n",
        "\n",
        "# Fit and transform the training data \n",
        "tfidf_train = tfidf_vectorizer.fit_transform(X) \n",
        "\n",
        "models = [\n",
        "    RandomForestClassifier(n_estimators=100, max_depth=5, random_state=0),\n",
        "    LinearSVC(),\n",
        "    MultinomialNB(alpha=0.1),\n",
        "    LogisticRegression(random_state=0),\n",
        "    pd_linear_model.PassiveAggressiveClassifier(C=1, max_iter=200),\n",
        "]\n",
        "\n",
        "for model in models:\n",
        "    print(model)\n",
        "\n",
        "    y_pred = cross_val_predict(model, tfidf_train, y, cv = 5)\n",
        "    print(classification_report(y, y_pred, target_names=[\"FAKE\",\"REAL\"]))\n"
      ],
      "execution_count": null,
      "outputs": [
        {
          "output_type": "stream",
          "text": [
            "RandomForestClassifier(max_depth=5, random_state=0)\n"
          ],
          "name": "stdout"
        },
        {
          "output_type": "stream",
          "text": [
            "/Users/mohsenbahremani/opt/anaconda3/lib/python3.7/site-packages/sklearn/metrics/_classification.py:1221: UndefinedMetricWarning: Precision and F-score are ill-defined and being set to 0.0 in labels with no predicted samples. Use `zero_division` parameter to control this behavior.\n",
            "  _warn_prf(average, modifier, msg_start, len(result))\n"
          ],
          "name": "stderr"
        },
        {
          "output_type": "stream",
          "text": [
            "              precision    recall  f1-score   support\n",
            "\n",
            "        FAKE       0.00      0.00      0.00       866\n",
            "        REAL       0.78      1.00      0.88      3053\n",
            "\n",
            "    accuracy                           0.78      3919\n",
            "   macro avg       0.39      0.50      0.44      3919\n",
            "weighted avg       0.61      0.78      0.68      3919\n",
            "\n",
            "LinearSVC()\n",
            "              precision    recall  f1-score   support\n",
            "\n",
            "        FAKE       0.81      0.78      0.79       866\n",
            "        REAL       0.94      0.95      0.94      3053\n",
            "\n",
            "    accuracy                           0.91      3919\n",
            "   macro avg       0.87      0.86      0.87      3919\n",
            "weighted avg       0.91      0.91      0.91      3919\n",
            "\n",
            "MultinomialNB(alpha=0.1)\n",
            "              precision    recall  f1-score   support\n",
            "\n",
            "        FAKE       0.78      0.72      0.75       866\n",
            "        REAL       0.92      0.94      0.93      3053\n",
            "\n",
            "    accuracy                           0.89      3919\n",
            "   macro avg       0.85      0.83      0.84      3919\n",
            "weighted avg       0.89      0.89      0.89      3919\n",
            "\n",
            "LogisticRegression(random_state=0)\n",
            "              precision    recall  f1-score   support\n",
            "\n",
            "        FAKE       0.88      0.57      0.69       866\n",
            "        REAL       0.89      0.98      0.93      3053\n",
            "\n",
            "    accuracy                           0.89      3919\n",
            "   macro avg       0.88      0.77      0.81      3919\n",
            "weighted avg       0.89      0.89      0.88      3919\n",
            "\n",
            "PassiveAggressiveClassifier(C=1, max_iter=200)\n",
            "              precision    recall  f1-score   support\n",
            "\n",
            "        FAKE       0.79      0.79      0.79       866\n",
            "        REAL       0.94      0.94      0.94      3053\n",
            "\n",
            "    accuracy                           0.91      3919\n",
            "   macro avg       0.86      0.86      0.86      3919\n",
            "weighted avg       0.91      0.91      0.91      3919\n",
            "\n"
          ],
          "name": "stdout"
        }
      ]
    }
  ]
}